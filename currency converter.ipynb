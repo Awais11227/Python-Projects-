{
 "cells": [
  {
   "cell_type": "markdown",
   "metadata": {},
   "source": [
    "# PROJECT\n",
    "# A Simple  Currency Converter\n",
    "# By Awais Manzoor\n",
    "# Data Analyst"
   ]
  },
  {
   "cell_type": "code",
   "execution_count": 3,
   "metadata": {},
   "outputs": [
    {
     "name": "stdout",
     "output_type": "stream",
     "text": [
      "Welcome to the Currency Converter!\n",
      "Supported currencies: USD, EUR, INR, GBP\n",
      "\n",
      "100.0 USD = 7493.00 INR\n",
      "\n"
     ]
    }
   ],
   "source": [
    "def convert_currency(amount, from_currency, to_currency):\n",
    "    # Define exchange rates\n",
    "    rates = {\n",
    "        'USD': {'EUR': 0.85, 'INR': 74.93, 'GBP': 0.74},\n",
    "        'EUR': {'USD': 1.18, 'INR': 88.04, 'GBP': 0.87},\n",
    "        'INR': {'USD': 0.013, 'EUR': 0.011, 'GBP': 0.010},\n",
    "        'GBP': {'USD': 1.35, 'EUR': 1.15, 'INR': 100.55}\n",
    "    }\n",
    "\n",
    "    # If the currencies are the same, return the amount as is\n",
    "    if from_currency == to_currency:\n",
    "        return amount\n",
    "\n",
    "    # Try to get the conversion rate and calculate the converted amount\n",
    "    try:\n",
    "        rate = rates[from_currency][to_currency]\n",
    "        return amount * rate\n",
    "    except KeyError:\n",
    "        raise ValueError(f\"Conversion rate from {from_currency} to {to_currency} is not available.\")\n",
    "\n",
    "def currency_converter():\n",
    "    print(\"Welcome to the Currency Converter!\")\n",
    "    print(\"Supported currencies: USD, EUR, INR, GBP\")\n",
    "\n",
    "    try:\n",
    "        # Get user input\n",
    "        amount = float(input(\"Enter the amount to convert: \"))\n",
    "        from_currency = input(\"Enter the currency to convert from (USD, EUR, INR, GBP): \").upper()\n",
    "        to_currency = input(\"Enter the currency to convert to (USD, EUR, INR, GBP): \").upper()\n",
    "\n",
    "        # Perform the conversion\n",
    "        converted_amount = convert_currency(amount, from_currency, to_currency)\n",
    "\n",
    "        # Display the result\n",
    "        print(f\"\\n{amount} {from_currency} = {converted_amount:.2f} {to_currency}\\n\")\n",
    "    except ValueError as e:\n",
    "        print(f\"\\nError: {e}\\n\")\n",
    "    except Exception as e:\n",
    "        print(f\"\\nAn unexpected error occurred: {e}\\n\")\n",
    "\n",
    "# Run the currency converter\n",
    "if __name__ == \"__main__\":\n",
    "    currency_converter()"
   ]
  },
  {
   "cell_type": "code",
   "execution_count": null,
   "metadata": {},
   "outputs": [],
   "source": []
  }
 ],
 "metadata": {
  "kernelspec": {
   "display_name": "Python 3",
   "language": "python",
   "name": "python3"
  },
  "language_info": {
   "codemirror_mode": {
    "name": "ipython",
    "version": 3
   },
   "file_extension": ".py",
   "mimetype": "text/x-python",
   "name": "python",
   "nbconvert_exporter": "python",
   "pygments_lexer": "ipython3",
   "version": "3.12.2"
  }
 },
 "nbformat": 4,
 "nbformat_minor": 2
}
