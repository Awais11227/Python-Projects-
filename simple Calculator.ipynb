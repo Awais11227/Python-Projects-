{
 "cells": [
  {
   "cell_type": "markdown",
   "metadata": {},
   "source": [
    "# SIMPLE CALCULATOR"
   ]
  },
  {
   "cell_type": "markdown",
   "metadata": {},
   "source": [
    "# By Awais Manzoor \n",
    "# Data Analayst"
   ]
  },
  {
   "cell_type": "code",
   "execution_count": 23,
   "metadata": {},
   "outputs": [
    {
     "name": "stdout",
     "output_type": "stream",
     "text": [
      "\n",
      "Simple Calculator:\n",
      "1. Add\n",
      "2. Subtract\n",
      "3. Multiply\n",
      "4. Divide\n",
      "5. Exit\n",
      "The result of subtraction is: -11.0\n",
      "\n",
      "Simple Calculator:\n",
      "1. Add\n",
      "2. Subtract\n",
      "3. Multiply\n",
      "4. Divide\n",
      "5. Exit\n",
      "The result of multiplication is: 5082.0\n",
      "\n",
      "Simple Calculator:\n",
      "1. Add\n",
      "2. Subtract\n",
      "3. Multiply\n",
      "4. Divide\n",
      "5. Exit\n",
      "The result of division is: 0.4125\n",
      "\n",
      "Simple Calculator:\n",
      "1. Add\n",
      "2. Subtract\n",
      "3. Multiply\n",
      "4. Divide\n",
      "5. Exit\n",
      "The result of addition is: 143.0\n",
      "Program ended after addition.\n"
     ]
    }
   ],
   "source": [
    "# Define the Calculator class\n",
    "class Calculator:\n",
    "    def __init__(self):\n",
    "        pass\n",
    "\n",
    "    # Method for addition\n",
    "    def add(self, num1, num2):\n",
    "        return num1 + num2\n",
    "\n",
    "    # Method for subtraction\n",
    "    def subtract(self, num1, num2):\n",
    "        return num1 - num2\n",
    "\n",
    "    # Method for multiplication\n",
    "    def multiply(self, num1, num2):\n",
    "        return num1 * num2\n",
    "\n",
    "    # Method for division\n",
    "    def divide(self, num1, num2):\n",
    "        if num2 == 0:\n",
    "            return \"Error: Division by zero\"\n",
    "        else:\n",
    "            return num1 / num2\n",
    "\n",
    "\n",
    "# Main code to use the Calculator class\n",
    "def main():\n",
    "    calc = Calculator()\n",
    "\n",
    "    while True:  # Loop to allow multiple operations\n",
    "        print(\"\\nSimple Calculator:\")\n",
    "        print(\"1. Add\")\n",
    "        print(\"2. Subtract\")\n",
    "        print(\"3. Multiply\")\n",
    "        print(\"4. Divide\")\n",
    "        print(\"5. Exit\")\n",
    "\n",
    "        # Choose operation\n",
    "        choice = int(input(\"Enter the operation number (1/2/3/4/5): \"))\n",
    "\n",
    "        if choice == 5:\n",
    "            print(\"Exiting the program.\")\n",
    "            break  # Exit the loop\n",
    "\n",
    "        num1 = float(input(\"Enter first number: \"))\n",
    "        num2 = float(input(\"Enter second number: \"))\n",
    "\n",
    "        # Perform the chosen operation\n",
    "        if choice == 1:\n",
    "            result = calc.add(num1, num2)\n",
    "            print(f\"The result of addition is: {result}\")\n",
    "            print(\"Program ended after addition.\")\n",
    "            break  # End the program after addition\n",
    "        elif choice == 2:\n",
    "            result = calc.subtract(num1, num2)\n",
    "            print(f\"The result of subtraction is: {result}\")\n",
    "        elif choice == 3:\n",
    "            result = calc.multiply(num1, num2)\n",
    "            print(f\"The result of multiplication is: {result}\")\n",
    "        elif choice == 4:\n",
    "            result = calc.divide(num1, num2)\n",
    "            print(f\"The result of division is: {result}\")\n",
    "        else:\n",
    "            print(\"Invalid choice. Please try again.\")\n",
    "\n",
    "# Run the program\n",
    "if __name__ == \"__main__\":\n",
    "    main()\n"
   ]
  },
  {
   "cell_type": "code",
   "execution_count": null,
   "metadata": {},
   "outputs": [],
   "source": []
  }
 ],
 "metadata": {
  "kernelspec": {
   "display_name": "Python 3",
   "language": "python",
   "name": "python3"
  },
  "language_info": {
   "codemirror_mode": {
    "name": "ipython",
    "version": 3
   },
   "file_extension": ".py",
   "mimetype": "text/x-python",
   "name": "python",
   "nbconvert_exporter": "python",
   "pygments_lexer": "ipython3",
   "version": "3.12.2"
  }
 },
 "nbformat": 4,
 "nbformat_minor": 2
}
