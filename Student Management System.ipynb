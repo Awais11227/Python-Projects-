{
 "cells": [
  {
   "cell_type": "markdown",
   "metadata": {},
   "source": [
    "# PROJECT "
   ]
  },
  {
   "cell_type": "markdown",
   "metadata": {},
   "source": [
    "# Student Management System\n",
    "# Author: Awais Manzoor \n",
    "# Data Analyst"
   ]
  },
  {
   "cell_type": "code",
   "execution_count": 1,
   "metadata": {},
   "outputs": [
    {
     "name": "stdout",
     "output_type": "stream",
     "text": [
      "Roll Number: 102, Name: Awais, Grades: A\n"
     ]
    }
   ],
   "source": [
    "# Student Management System\n",
    "\"\"\"A system that manages student information, including name, roll number, grades, and class assignments. The system should allow adding, updating, and viewing student details.\"\"\"\n",
    "class Student:\n",
    "    def __init__(self, roll_number, name, grades):\n",
    "        self.roll_number = roll_number\n",
    "        self.name = name\n",
    "        self.grades = grades\n",
    "\n",
    "    def display_info(self):\n",
    "        return f\"Roll Number: {self.roll_number}, Name: {self.name}, Grades: {self.grades}\"\n",
    "\n",
    "    def update_grades(self, new_grades):\n",
    "        self.grades = new_grades\n",
    "        print(f\"Updated grades for {self.name}: {self.grades}\")\n",
    "\n",
    "def manage_students():\n",
    "    students = []\n",
    "    while True:\n",
    "        choice = input(\"Choose an option: (1) Add Student (2) View Students (3) Update Grades (4) Exit: \")\n",
    "        if choice == '1':\n",
    "            roll_number = input(\"Enter roll number: \")\n",
    "            name = input(\"Enter name: \")\n",
    "            grades = input(\"Enter grades: \")\n",
    "            student = Student(roll_number, name, grades)\n",
    "            students.append(student)\n",
    "        elif choice == '2':\n",
    "            for student in students:\n",
    "                print(student.display_info())\n",
    "        elif choice == '3':\n",
    "            roll_number = input(\"Enter roll number to update grades: \")\n",
    "            for student in students:\n",
    "                if student.roll_number == roll_number:\n",
    "                    new_grades = input(f\"Enter new grades for {student.name}: \")\n",
    "                    student.update_grades(new_grades)\n",
    "        elif choice == '4':\n",
    "            break\n",
    "        else:\n",
    "            print(\"Invalid option. Please try again.\")\n",
    "\n",
    "# Test the Student Management System\n",
    "if __name__ == \"__main__\":\n",
    "    manage_students()\n",
    "\n"
   ]
  }
 ],
 "metadata": {
  "kernelspec": {
   "display_name": "Python 3",
   "language": "python",
   "name": "python3"
  },
  "language_info": {
   "codemirror_mode": {
    "name": "ipython",
    "version": 3
   },
   "file_extension": ".py",
   "mimetype": "text/x-python",
   "name": "python",
   "nbconvert_exporter": "python",
   "pygments_lexer": "ipython3",
   "version": "3.12.2"
  }
 },
 "nbformat": 4,
 "nbformat_minor": 2
}
