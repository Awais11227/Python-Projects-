{
 "cells": [
  {
   "cell_type": "code",
   "execution_count": null,
   "metadata": {},
   "outputs": [],
   "source": [
    "import random\n",
    "import datetime\n",
    "import tkinter as tk\n",
    "from tkinter import messagebox\n",
    "\n",
    "def save_result(result):\n",
    "    with open(\"rps_results.txt\", \"a\") as file:\n",
    "        file.write(f\"{datetime.datetime.now()} - {result}\\n\")\n",
    "\n",
    "def play_rps(user_choice):\n",
    "    options = ['rock', 'paper', 'scissors']\n",
    "    computer_choice = random.choice(options)\n",
    "\n",
    "    if user_choice not in options:\n",
    "        messagebox.showerror(\"Invalid Choice\", \"Please choose rock, paper, or scissors.\")\n",
    "        return\n",
    "\n",
    "    result = f\"Computer chose: {computer_choice}\\n\"\n",
    "    \n",
    "    if user_choice == computer_choice:\n",
    "        result += \"It's a tie!\"\n",
    "    elif (user_choice == 'rock' and computer_choice == 'scissors') or \\\n",
    "         (user_choice == 'scissors' and computer_choice == 'paper') or \\\n",
    "         (user_choice == 'paper' and computer_choice == 'rock'):\n",
    "        result += \"You win!\"\n",
    "    else:\n",
    "        result += \"You lose!\"\n",
    "\n",
    "    messagebox.showinfo(\"Result\", result)\n",
    "    save_result(result)\n",
    "\n",
    "def main():\n",
    "    root = tk.Tk()\n",
    "    root.title(\"Rock, Paper, Scissors Game\")\n",
    "\n",
    "    def on_choice(choice):\n",
    "        play_rps(choice)\n",
    "\n",
    "    tk.Label(root, text=\"Choose rock, paper, or scissors:\").pack()\n",
    "\n",
    "    tk.Button(root, text=\"Rock\", command=lambda: on_choice(\"rock\")).pack()\n",
    "    tk.Button(root, text=\"Paper\", command=lambda: on_choice(\"paper\")).pack()\n",
    "    tk.Button(root, text=\"Scissors\", command=lambda: on_choice(\"scissors\")).pack()\n",
    "\n",
    "    root.mainloop()\n",
    "\n",
    "if __name__ == \"__main__\":\n",
    "    main()"
   ]
  }
 ],
 "metadata": {
  "language_info": {
   "name": "python"
  }
 },
 "nbformat": 4,
 "nbformat_minor": 2
}
